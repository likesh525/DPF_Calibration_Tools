{
 "cells": [
  {
   "cell_type": "code",
   "execution_count": 1,
   "id": "ae25330e",
   "metadata": {},
   "outputs": [
    {
     "name": "stderr",
     "output_type": "stream",
     "text": [
      "ldf is not supported\n",
      "xls is not supported\n"
     ]
    }
   ],
   "source": [
    "import asammdf as md\n",
    "import pandas as pd\n",
    "from asammdf import MDF\n",
    "import time\n",
    "import os\n"
   ]
  },
  {
   "cell_type": "code",
   "execution_count": null,
   "id": "32567d6e",
   "metadata": {},
   "outputs": [],
   "source": [
    "#### Specify the input folder path."
   ]
  },
  {
   "cell_type": "code",
   "execution_count": null,
   "id": "5e48b504",
   "metadata": {},
   "outputs": [],
   "source": [
    "input_folder = '/path/'"
   ]
  },
  {
   "cell_type": "code",
   "execution_count": null,
   "id": "f99ecf13",
   "metadata": {},
   "outputs": [],
   "source": [
    "#### Creating an output folder"
   ]
  },
  {
   "cell_type": "code",
   "execution_count": null,
   "id": "f6b3d83d",
   "metadata": {},
   "outputs": [],
   "source": [
    "\n",
    "output_folder = os.path.join(input_folder, 'converted')\n",
    "if not os.path.exists(output_folder):\n",
    "    os.makedirs(output_folder)"
   ]
  },
  {
   "cell_type": "code",
   "execution_count": null,
   "id": "4194c514",
   "metadata": {},
   "outputs": [],
   "source": [
    "#### Checking for all files that end with [.dat]"
   ]
  },
  {
   "cell_type": "code",
   "execution_count": null,
   "id": "e03ab8d8",
   "metadata": {},
   "outputs": [],
   "source": [
    "input_files = [f for f in os.listdir(input_folder) if f.endswith('.dat')]"
   ]
  },
  {
   "cell_type": "code",
   "execution_count": null,
   "id": "25a0ca95",
   "metadata": {},
   "outputs": [],
   "source": [
    "start = time.time()\n",
    "\n",
    "# Loop\n",
    "for input_file in input_files:\n",
    "    input_path = os.path.join(input_folder, input_file)\n",
    "    output_file = os.path.join(output_folder, input_file[:-4] + '_converted_new.mf4')\n",
    "    \n",
    "   # Using dataframe\n",
    "    mdf_file = md.MDF(input_path)\n",
    "    df = mdf_file.to_dataframe()\n",
    "    \n",
    "    # Creating an empty.mdf4 file\n",
    "    # You select the desired version by changing \"version = \"\n",
    "    #appending the dataframe to an empty file\n",
    "    # Remember to input the version in float\n",
    "    with MDF(version='4.10') as mdf4:\n",
    "        mdf4.append(df, comment='Checking_its_working')\n",
    "        mdf4.save(output_file, overwrite=True)\n",
    "    \n",
    "    print(f'{input_file} is changed into {output_file}' '\\n')\n",
    "\n",
    "end = time.time()\n",
    "\n",
    "time_elapsed = round((end - start)/60, 2)\n",
    "\n",
    "\n",
    "print('\\n' f' Total time elapsed is {time_elapsed} Sec')"
   ]
  }
 ],
 "metadata": {
  "kernelspec": {
   "display_name": "Python 3 (ipykernel)",
   "language": "python",
   "name": "python3"
  },
  "language_info": {
   "codemirror_mode": {
    "name": "ipython",
    "version": 3
   },
   "file_extension": ".py",
   "mimetype": "text/x-python",
   "name": "python",
   "nbconvert_exporter": "python",
   "pygments_lexer": "ipython3",
   "version": "3.9.13"
  }
 },
 "nbformat": 4,
 "nbformat_minor": 5
}
