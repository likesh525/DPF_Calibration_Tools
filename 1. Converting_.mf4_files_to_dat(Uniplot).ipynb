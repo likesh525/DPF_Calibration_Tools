{
 "cells": [
  {
   "cell_type": "code",
   "execution_count": 1,
   "id": "94293609",
   "metadata": {},
   "outputs": [
    {
     "name": "stderr",
     "output_type": "stream",
     "text": [
      "ldf is not supported\n",
      "xls is not supported\n"
     ]
    }
   ],
   "source": [
    "import asammdf as md\n",
    "import pandas as pd\n",
    "from asammdf import MDF\n",
    "import time\n",
    "import os\n"
   ]
  },
  {
   "cell_type": "markdown",
   "id": "9a6bdefb",
   "metadata": {},
   "source": [
    "#### Specify the input folder path."
   ]
  },
  {
   "cell_type": "code",
   "execution_count": 2,
   "id": "b565f0bd",
   "metadata": {},
   "outputs": [],
   "source": [
    "input_folder = 'C:/Users/mla3kor/Desktop/Hackathon/DPF_Tools/1. Creating_notebook/2. Dat_to_mf4_conversion/Raw_files/New/converted/converted/Check_1'"
   ]
  },
  {
   "cell_type": "markdown",
   "id": "90a1408a",
   "metadata": {},
   "source": [
    "#### Creating an output folder"
   ]
  },
  {
   "cell_type": "code",
   "execution_count": 3,
   "id": "e101573b",
   "metadata": {},
   "outputs": [],
   "source": [
    "\n",
    "output_folder = os.path.join(input_folder, 'converted')\n",
    "if not os.path.exists(output_folder):\n",
    "    os.makedirs(output_folder)"
   ]
  },
  {
   "cell_type": "markdown",
   "id": "e2ebbd1d",
   "metadata": {},
   "source": [
    "#### Checking for all files that end with [.dat]"
   ]
  },
  {
   "cell_type": "code",
   "execution_count": 4,
   "id": "128b7d4b",
   "metadata": {},
   "outputs": [],
   "source": [
    "input_files = [f for f in os.listdir(input_folder) if f.endswith('.mf4')]"
   ]
  },
  {
   "cell_type": "code",
   "execution_count": 7,
   "id": "d606a65d",
   "metadata": {},
   "outputs": [
    {
     "ename": "ValueError",
     "evalue": "cannot reshape array of size 614421 into shape (204807,)",
     "output_type": "error",
     "traceback": [
      "\u001b[1;31m---------------------------------------------------------------------------\u001b[0m",
      "\u001b[1;31mValueError\u001b[0m                                Traceback (most recent call last)",
      "\u001b[1;32m~\\AppData\\Local\\Temp\\ipykernel_23312\\1064899432.py\u001b[0m in \u001b[0;36m<module>\u001b[1;34m\u001b[0m\n\u001b[0;32m     15\u001b[0m             \u001b[0marray\u001b[0m \u001b[1;33m=\u001b[0m \u001b[0mnp\u001b[0m\u001b[1;33m.\u001b[0m\u001b[0marray\u001b[0m\u001b[1;33m(\u001b[0m\u001b[0mdf\u001b[0m\u001b[1;33m[\u001b[0m\u001b[0mcolumn\u001b[0m\u001b[1;33m]\u001b[0m\u001b[1;33m.\u001b[0m\u001b[0mvalues\u001b[0m\u001b[1;33m.\u001b[0m\u001b[0mtolist\u001b[0m\u001b[1;33m(\u001b[0m\u001b[1;33m)\u001b[0m\u001b[1;33m)\u001b[0m\u001b[1;33m\u001b[0m\u001b[1;33m\u001b[0m\u001b[0m\n\u001b[0;32m     16\u001b[0m             \u001b[1;32mif\u001b[0m \u001b[0marray\u001b[0m\u001b[1;33m.\u001b[0m\u001b[0mshape\u001b[0m \u001b[1;33m!=\u001b[0m \u001b[0mdf\u001b[0m\u001b[1;33m[\u001b[0m\u001b[0mcolumn\u001b[0m\u001b[1;33m]\u001b[0m\u001b[1;33m.\u001b[0m\u001b[0mshape\u001b[0m\u001b[1;33m:\u001b[0m\u001b[1;33m\u001b[0m\u001b[1;33m\u001b[0m\u001b[0m\n\u001b[1;32m---> 17\u001b[1;33m                 \u001b[0marray\u001b[0m \u001b[1;33m=\u001b[0m \u001b[0marray\u001b[0m\u001b[1;33m.\u001b[0m\u001b[0mreshape\u001b[0m\u001b[1;33m(\u001b[0m\u001b[0mdf\u001b[0m\u001b[1;33m[\u001b[0m\u001b[0mcolumn\u001b[0m\u001b[1;33m]\u001b[0m\u001b[1;33m.\u001b[0m\u001b[0mshape\u001b[0m\u001b[1;33m)\u001b[0m\u001b[1;33m\u001b[0m\u001b[1;33m\u001b[0m\u001b[0m\n\u001b[0m\u001b[0;32m     18\u001b[0m             \u001b[0mdf\u001b[0m\u001b[1;33m[\u001b[0m\u001b[0mcolumn\u001b[0m\u001b[1;33m]\u001b[0m \u001b[1;33m=\u001b[0m \u001b[0marray\u001b[0m\u001b[1;33m\u001b[0m\u001b[1;33m\u001b[0m\u001b[0m\n\u001b[0;32m     19\u001b[0m \u001b[1;33m\u001b[0m\u001b[0m\n",
      "\u001b[1;31mValueError\u001b[0m: cannot reshape array of size 614421 into shape (204807,)"
     ]
    }
   ],
   "source": [
    "\n",
    "\n",
    "start = time.time()\n",
    "\n",
    "# Loop\n",
    "for input_file in input_files:\n",
    "    input_path = os.path.join(input_folder, input_file)\n",
    "    output_file = os.path.join(output_folder, input_file[:-4] + '_converted_new.mdf')\n",
    "\n",
    "    # Using dataframe\n",
    "    mdf_file = md.MDF(input_path)\n",
    "    df = mdf_file.to_dataframe()\n",
    "\n",
    "    # Convert any sequence objects to NumPy arrays\n",
    "    for column in df.columns:\n",
    "        if df[column].dtype.kind == 'O':\n",
    "            array = np.array(df[column].values.tolist())\n",
    "            if array.shape != df[column].shape:\n",
    "                array = array.reshape(df[column].shape)\n",
    "            df[column] = array\n",
    "\n",
    "    # Creating an empty.mdf4 file\n",
    "    # You select the desired version by changing \"version = \"\n",
    "    #appending the dataframe to an empty file\n",
    "    # Remember to input the version in float\n",
    "    with md.MDF(version='4.10') as mdf4:\n",
    "        mdf4.append(df, comment='Checking_its_working')\n",
    "        mdf4.save(output_file, overwrite=True)\n",
    "\n",
    "    #df.to_csv(output_file, sep=\"\\t\", index=False)\n",
    "    print(f'{input_file} is changed into {output_file}' '\\n')\n",
    "\n",
    "end = time.time()\n",
    "\n",
    "time_elapsed = round((end - start)/60, 2)\n",
    "\n",
    "print('\\n' f' Total time elapsed is {time_elapsed} Sec')\n"
   ]
  },
  {
   "cell_type": "code",
   "execution_count": null,
   "id": "12cbaddb",
   "metadata": {},
   "outputs": [],
   "source": []
  }
 ],
 "metadata": {
  "kernelspec": {
   "display_name": "Python 3 (ipykernel)",
   "language": "python",
   "name": "python3"
  },
  "language_info": {
   "codemirror_mode": {
    "name": "ipython",
    "version": 3
   },
   "file_extension": ".py",
   "mimetype": "text/x-python",
   "name": "python",
   "nbconvert_exporter": "python",
   "pygments_lexer": "ipython3",
   "version": "3.9.13"
  }
 },
 "nbformat": 4,
 "nbformat_minor": 5
}
