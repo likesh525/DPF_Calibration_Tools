{
 "cells": [
  {
   "cell_type": "code",
   "execution_count": 5,
   "id": "cabb40b6-5f9d-4150-90c7-f71a13cdd958",
   "metadata": {},
   "outputs": [],
   "source": [
    "import pandas as pd\n",
    "import numpy as np\n",
    "from asammdf import MDF\n",
    "import time\n",
    "\n"
   ]
  },
  {
   "cell_type": "code",
   "execution_count": 7,
   "id": "923cc6d3-202a-4a2c-9ef1-8ab681d7945d",
   "metadata": {},
   "outputs": [],
   "source": [
    "input_csv_file = 'C:/Users/mla3kor/Desktop/TML_0.7L_cDPF/TML_0.7L_PH2/10. issues/Salem_issue/Customer_Data/MAT559033PZD10148_08072023_17-3-44_SingleParameter IDEAL RPM_For_conversion.CSV'\n",
    "output_file = input_csv_file[:-4] + '_converted_new.mf4'\n",
    "\n"
   ]
  },
  {
   "cell_type": "code",
   "execution_count": 8,
   "id": "6de1517b-1507-4082-810f-a91cbd1c1b34",
   "metadata": {},
   "outputs": [],
   "source": [
    "df_can = pd.read_csv(input_csv_file)"
   ]
  },
  {
   "cell_type": "code",
   "execution_count": 9,
   "id": "927b171e-ad4c-4589-aa58-4062abbc255b",
   "metadata": {},
   "outputs": [
    {
     "name": "stdout",
     "output_type": "stream",
     "text": [
      "0.01900196075439453\n"
     ]
    }
   ],
   "source": [
    "start = time.time()\n",
    "with MDF(version='4.10') as mdf4:\n",
    "    \n",
    "    mdf4.append(df_can, comment='Checking_its_working')\n",
    "    #mdf4.resample(raster = 1.0)\n",
    "    mdf4.save(output_file, overwrite=True)\n",
    "    \n",
    "    \n",
    "end = time.time()\n",
    "\n",
    "print(end - start)"
   ]
  },
  {
   "cell_type": "code",
   "execution_count": null,
   "id": "d4fce8c0-2cb9-4e63-b5b8-90eb2411c92c",
   "metadata": {},
   "outputs": [],
   "source": []
  }
 ],
 "metadata": {
  "kernelspec": {
   "display_name": "Python 3 (ipykernel)",
   "language": "python",
   "name": "python3"
  },
  "language_info": {
   "codemirror_mode": {
    "name": "ipython",
    "version": 3
   },
   "file_extension": ".py",
   "mimetype": "text/x-python",
   "name": "python",
   "nbconvert_exporter": "python",
   "pygments_lexer": "ipython3",
   "version": "3.9.13"
  }
 },
 "nbformat": 4,
 "nbformat_minor": 5
}
